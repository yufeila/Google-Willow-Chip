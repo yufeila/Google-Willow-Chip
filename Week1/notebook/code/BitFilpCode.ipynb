{
 "cells": [
  {
   "cell_type": "markdown",
   "id": "adbd7cb6",
   "metadata": {
    "vscode": {
     "languageId": "plaintext"
    }
   },
   "source": [
    "## Introduction   介绍\n",
    "Qubits are very fragile and are prone to errors due to decoherence and other quantum noise. However using quantum error correction qubit errors can be corrected. \n",
    "量子比特非常脆弱，由于退相干和其他量子噪声而容易出现错误。但是，使用量子纠错可以纠正量子比特错误。\n",
    "\n",
    "In this tutorial you will see how a specific type of error called a bit flip error can be corrected using a quantum circuit known as the bit flip code. "
   ]
  },
  {
   "cell_type": "markdown",
   "id": "cf285dda",
   "metadata": {
    "vscode": {
     "languageId": "plaintext"
    }
   },
   "source": [
    "## What is a Bit Flip error? \n",
    "什么是 Bit Flip 错误？\n",
    "A bit flip error is specific type of error where the qubits computational state flips from 1 to 0 or vice versa.\n",
    "位翻转错误是特定类型的错误，其中量子比特计算状态从 1 翻转到 0，反之亦然。\n",
    "\n",
    "However a bit flip can be corrected using the bit flip code. This is a 3 qubit circuit that makes use of 2 ancillary qubits to correct 1 qubit. \n",
    "但是，可以使用 bit flip 代码来纠正 bit flip。这是一个 3 量子比特电路，它使用 2 个辅助量子比特来校正 1 个量子比特。\n",
    "\n",
    "Circuit diagram of the bit flip code\n",
    "![alt text](image-1.png)\n",
    "比特翻转代码的电路图\n",
    "\n",
    "The code works by first using CNOT gates to transfer the computational state of the main qubit to the other ancillary qubits. Then if an error occurs the first qubits state will be flipped. To correct the bit flip CNOT gates are applied to the ancillary qubits again and then a toffoli gate is applied to the first qubit which will correct its state. \n",
    "该代码的工作原理是首先使用 CNOT 门将主量子比特的计算状态传输到其他辅助量子比特。然后，如果发生错误，第一个量子比特状态将被翻转。为了更正位翻转，将 CNOT 门再次应用于辅助量子比特，然后将 toffoli 门应用于第一个量子比特，这将更正其状态。\n",
    "\n",
    "For example let’s say the main qubits state was 0. CNOT gates will be applied to the ancillary qubits which will leave them unchanged since the main qubits state was 0. \n",
    "例如，假设主量子比特状态为 0。CNOT 门将应用于辅助量子比特，这将使它们保持不变，因为主量子比特状态为 0。\n",
    "\n",
    "Next a bit flip occurs which flips the main qubits state to 1. After the bit flip CNOT gates are applied to the ancillary qubits which will flip their states to 1 since the main qubits state is 1. \n",
    "接下来，将发生位翻转，将主量子比特状态翻转为 1。位翻转后，CNOT 门将应用于辅助量子比特，这会将其状态翻转为 1，因为主量子比特状态为 1。\n",
    "\n",
    "Then a toffoli gate is applied to the main qubit which will flip the state of the qubit since the ancillary qubits states are 1. This flips the state of the main qubit to 0 thus correcting the error. \n",
    "然后，将 toffoli 门应用于主量子比特，这将翻转量子比特的状态，因为辅助量子比特的状态为 1。这会将主量子比特的状态翻转为 0，从而纠正错误。"
   ]
  },
  {
   "cell_type": "markdown",
   "id": "13fcca05",
   "metadata": {},
   "source": [
    "## Implementation   实现\n",
    "\n",
    "Circuit diagram of bit flip code with simulated error using a NOT gate\n",
    "使用 NOT 门的具有模拟错误的 bit flip code 电路图"
   ]
  },
  {
   "cell_type": "markdown",
   "id": "3c1b8f09",
   "metadata": {},
   "source": [
    "### Step 1: Initialise the quantum and classical registers\n",
    "\n",
    "步骤 1：初始化量子寄存器和经典寄存器\n",
    "\n",
    "The first step is to initialise a 3 qubit register . This is done by the following code:\n",
    "\n",
    "第一步是初始化 3 量子比特寄存器 。这是通过以下代码完成的：\n"
   ]
  },
  {
   "cell_type": "code",
   "execution_count": null,
   "id": "09403154",
   "metadata": {},
   "outputs": [],
   "source": [
    "q = QuantumRegister(3,'q')"
   ]
  },
  {
   "cell_type": "markdown",
   "id": "1ebf9a0e",
   "metadata": {},
   "source": [
    "### Step 2: Create the circuit\n",
    "\n",
    "第 2 步：创建电路\n",
    "\n",
    "Next we create quantum circuit using the following code:\n",
    "\n",
    "接下来，我们使用以下代码创建量子电路："
   ]
  },
  {
   "cell_type": "code",
   "execution_count": null,
   "id": "0f62c59c",
   "metadata": {},
   "outputs": [],
   "source": [
    "\n",
    "circuit = QuantumCircuit(q,c)"
   ]
  },
  {
   "cell_type": "markdown",
   "id": "f816a7b8",
   "metadata": {},
   "source": [
    "### Step 3: Apply a CNOT gate to ancillary qubits \n",
    "\n",
    "步骤 3：将 CNOT 门应用于辅助量子比特\n",
    "\n",
    "Next we will need to transfer the state of the first qubit to the ancillary qubits. This is done using CNOT gates where the ancillary qubits are the targets and the first qubit is the control qubit. \n",
    "\n",
    "接下来，我们需要将第一个量子比特的状态传输到辅助量子比特。这是使用 CNOT 门完成的，其中辅助量子比特是目标，第一个量子比特是控制量子比特。\n",
    "\n",
    "This is done using the following code:\n",
    "\n",
    "这是使用以下代码完成的："
   ]
  },
  {
   "cell_type": "code",
   "execution_count": null,
   "id": "3e8b7499",
   "metadata": {},
   "outputs": [],
   "source": [
    "circuit.cx(q[0],q[1]) \n",
    "circuit.cx(q[0],q[2])"
   ]
  },
  {
   "cell_type": "markdown",
   "id": "490ef05c",
   "metadata": {},
   "source": [
    "### Step 4: Simulate a bit flip\n",
    "\n",
    "第 4 步：模拟位翻转\n",
    "\n",
    "To show that the circuit corrects bit flips lets simulate a bit flip error. This can be done by applying a NOT gate to the first qubit: \n",
    "\n",
    "为了显示电路纠正了位翻转，让我们模拟一个位翻转错误。这可以通过将 NOT 门应用于第一个量子比特来完成：\n"
   ]
  },
  {
   "cell_type": "code",
   "execution_count": null,
   "id": "2eae89bb",
   "metadata": {},
   "outputs": [],
   "source": [
    "circuit.x(q[0]) #Add this to simulate a bit flip error "
   ]
  },
  {
   "cell_type": "markdown",
   "id": "3fb37190",
   "metadata": {},
   "source": [
    "### Step 5: Again apply CNOT gates to ancillary qubits\n",
    "\n",
    "步骤 5：再次将 CNOT 门应用于辅助量子比特\n",
    "\n",
    "This is done using the following code:\n",
    "\n",
    "这是使用以下代码完成的：\n"
   ]
  },
  {
   "cell_type": "code",
   "execution_count": null,
   "id": "eb7fc9ed",
   "metadata": {},
   "outputs": [],
   "source": [
    "circuit.cx(q[0],q[1]) \n",
    "circuit.cx(q[0],q[2])"
   ]
  },
  {
   "cell_type": "markdown",
   "id": "e9dcb418",
   "metadata": {},
   "source": [
    "### Step 6: Apply a Toffoli gate to the main qubit\n",
    "\n",
    "步骤 6：将 Toffoli 门应用于主量子比特\n",
    "\n",
    "This is done using the following code:\n",
    "\n",
    "这是使用以下代码完成的：\n"
   ]
  },
  {
   "cell_type": "code",
   "execution_count": null,
   "id": "45838d0c",
   "metadata": {},
   "outputs": [],
   "source": [
    "circuit.ccx(q[2],q[1],q[0])"
   ]
  },
  {
   "cell_type": "markdown",
   "id": "388c5d5b",
   "metadata": {
    "vscode": {
     "languageId": "plaintext"
    }
   },
   "source": [
    "Step 7: Measure the qubits\n",
    "\n",
    "步骤 7：测量量子比特\n",
    "\n",
    "After this we measure the qubits. \n",
    "\n",
    "在此之后，我们测量量子比特。\n",
    "\n",
    "This is done with the following code: \n",
    "\n",
    "这是通过以下代码完成的：\n"
   ]
  },
  {
   "cell_type": "code",
   "execution_count": null,
   "id": "a5c6b0db",
   "metadata": {},
   "outputs": [],
   "source": [
    "circuit.measure(q,c) "
   ]
  },
  {
   "cell_type": "markdown",
   "id": "16c4a021",
   "metadata": {},
   "source": [
    "### How to run the program \n",
    "\n",
    "1. Copy and paste the code below in to a python file \n",
    "\n",
    "2. Enter your API token in the IBMQ.enable_account('Insert API token here') part \n",
    "\n",
    "3. Save and run   "
   ]
  },
  {
   "cell_type": "code",
   "execution_count": 8,
   "id": "d4a3436e-685f-4345-a75a-8bfa9b173114",
   "metadata": {},
   "outputs": [
    {
     "name": "stdout",
     "output_type": "stream",
     "text": [
      "Looking in indexes: https://pypi.tuna.tsinghua.edu.cn/simple\n",
      "Collecting qiskit-ibm-provider\n",
      "  Downloading https://pypi.tuna.tsinghua.edu.cn/packages/a3/86/2f775a9ce2514da2ad2b0a5e52640536cbd6dcc1b5e0f6a48297ede96dcb/qiskit_ibm_provider-0.11.0-py3-none-any.whl (249 kB)\n",
      "Requirement already satisfied: qiskit>=0.45.0 in c:\\users\\silicon\\.conda\\envs\\qiskit-env\\lib\\site-packages (from qiskit-ibm-provider) (2.0.0)\n",
      "Collecting requests>=2.19 (from qiskit-ibm-provider)\n",
      "  Using cached https://pypi.tuna.tsinghua.edu.cn/packages/f9/9b/335f9764261e915ed497fcdeb11df5dfd6f7bf257d4a6a2a686d80da4d54/requests-2.32.3-py3-none-any.whl (64 kB)\n",
      "Collecting requests-ntlm>=1.1.0 (from qiskit-ibm-provider)\n",
      "  Downloading https://pypi.tuna.tsinghua.edu.cn/packages/9e/5d/836b97537a390cf811b0488490c389c5a614f0a93acb23f347bd37a2d914/requests_ntlm-1.3.0-py3-none-any.whl (6.6 kB)\n",
      "Requirement already satisfied: numpy>=1.13 in c:\\users\\silicon\\.conda\\envs\\qiskit-env\\lib\\site-packages (from qiskit-ibm-provider) (2.2.5)\n",
      "Collecting urllib3>=1.21.1 (from qiskit-ibm-provider)\n",
      "  Using cached https://pypi.tuna.tsinghua.edu.cn/packages/6b/11/cc635220681e93a0183390e26485430ca2c7b5f9d33b15c74c2861cb8091/urllib3-2.4.0-py3-none-any.whl (128 kB)\n",
      "Requirement already satisfied: python-dateutil>=2.8.0 in c:\\users\\silicon\\.conda\\envs\\qiskit-env\\lib\\site-packages (from qiskit-ibm-provider) (2.9.0.post0)\n",
      "Collecting websocket-client>=1.5.1 (from qiskit-ibm-provider)\n",
      "  Using cached https://pypi.tuna.tsinghua.edu.cn/packages/5a/84/44687a29792a70e111c5c477230a72c4b957d88d16141199bf9acb7537a3/websocket_client-1.8.0-py3-none-any.whl (58 kB)\n",
      "Collecting websockets>=10.0 (from qiskit-ibm-provider)\n",
      "  Downloading https://pypi.tuna.tsinghua.edu.cn/packages/1c/46/aca7082012768bb98e5608f01658ff3ac8437e563eca41cf068bd5849a5e/websockets-15.0.1-cp310-cp310-win_amd64.whl (176 kB)\n",
      "Requirement already satisfied: typing-extensions>=4.3 in c:\\users\\silicon\\.conda\\envs\\qiskit-env\\lib\\site-packages (from qiskit-ibm-provider) (4.13.2)\n",
      "Requirement already satisfied: six>=1.5 in c:\\users\\silicon\\.conda\\envs\\qiskit-env\\lib\\site-packages (from python-dateutil>=2.8.0->qiskit-ibm-provider) (1.17.0)\n",
      "Requirement already satisfied: rustworkx>=0.15.0 in c:\\users\\silicon\\.conda\\envs\\qiskit-env\\lib\\site-packages (from qiskit>=0.45.0->qiskit-ibm-provider) (0.16.0)\n",
      "Requirement already satisfied: scipy>=1.5 in c:\\users\\silicon\\.conda\\envs\\qiskit-env\\lib\\site-packages (from qiskit>=0.45.0->qiskit-ibm-provider) (1.15.2)\n",
      "Requirement already satisfied: sympy>=1.3 in c:\\users\\silicon\\.conda\\envs\\qiskit-env\\lib\\site-packages (from qiskit>=0.45.0->qiskit-ibm-provider) (1.13.3)\n",
      "Requirement already satisfied: dill>=0.3 in c:\\users\\silicon\\.conda\\envs\\qiskit-env\\lib\\site-packages (from qiskit>=0.45.0->qiskit-ibm-provider) (0.4.0)\n",
      "Requirement already satisfied: stevedore>=3.0.0 in c:\\users\\silicon\\.conda\\envs\\qiskit-env\\lib\\site-packages (from qiskit>=0.45.0->qiskit-ibm-provider) (5.4.1)\n",
      "Requirement already satisfied: symengine<0.14,>=0.11 in c:\\users\\silicon\\.conda\\envs\\qiskit-env\\lib\\site-packages (from qiskit>=0.45.0->qiskit-ibm-provider) (0.13.0)\n",
      "Collecting charset-normalizer<4,>=2 (from requests>=2.19->qiskit-ibm-provider)\n",
      "  Downloading https://pypi.tuna.tsinghua.edu.cn/packages/2d/ce/3cbed41cff67e455a386fb5e5dd8906cdda2ed92fbc6297921f2e4419309/charset_normalizer-3.4.1-cp310-cp310-win_amd64.whl (102 kB)\n",
      "Collecting idna<4,>=2.5 (from requests>=2.19->qiskit-ibm-provider)\n",
      "  Using cached https://pypi.tuna.tsinghua.edu.cn/packages/76/c6/c88e154df9c4e1a2a66ccf0005a88dfb2650c1dffb6f5ce603dfbd452ce3/idna-3.10-py3-none-any.whl (70 kB)\n",
      "Collecting certifi>=2017.4.17 (from requests>=2.19->qiskit-ibm-provider)\n",
      "  Downloading https://pypi.tuna.tsinghua.edu.cn/packages/4a/7e/3db2bd1b1f9e95f7cddca6d6e75e2f2bd9f51b1246e546d88addca0106bd/certifi-2025.4.26-py3-none-any.whl (159 kB)\n",
      "Collecting cryptography>=1.3 (from requests-ntlm>=1.1.0->qiskit-ibm-provider)\n",
      "  Downloading https://pypi.tuna.tsinghua.edu.cn/packages/33/cf/1f7649b8b9a3543e042d3f348e398a061923ac05b507f3f4d95f11938aa9/cryptography-44.0.2-cp39-abi3-win_amd64.whl (3.2 MB)\n",
      "     ---------------------------------------- 0.0/3.2 MB ? eta -:--:--\n",
      "     --- ------------------------------------ 0.3/3.2 MB ? eta -:--:--\n",
      "     ------ --------------------------------- 0.5/3.2 MB 2.4 MB/s eta 0:00:02\n",
      "     ------------- -------------------------- 1.0/3.2 MB 1.6 MB/s eta 0:00:02\n",
      "     ---------------- ----------------------- 1.3/3.2 MB 1.5 MB/s eta 0:00:02\n",
      "     ---------------- ----------------------- 1.3/3.2 MB 1.5 MB/s eta 0:00:02\n",
      "     ---------------- ----------------------- 1.3/3.2 MB 1.5 MB/s eta 0:00:02\n",
      "     ---------------- ----------------------- 1.3/3.2 MB 1.5 MB/s eta 0:00:02\n",
      "     ---------------- ----------------------- 1.3/3.2 MB 1.5 MB/s eta 0:00:02\n",
      "     ---------------- ----------------------- 1.3/3.2 MB 1.5 MB/s eta 0:00:02\n",
      "     ---------------- ----------------------- 1.3/3.2 MB 1.5 MB/s eta 0:00:02\n",
      "     ---------------- ----------------------- 1.3/3.2 MB 1.5 MB/s eta 0:00:02\n",
      "     ------------------- -------------------- 1.6/3.2 MB 551.9 kB/s eta 0:00:03\n",
      "     ---------------------- ----------------- 1.8/3.2 MB 606.3 kB/s eta 0:00:03\n",
      "     -------------------------- ------------- 2.1/3.2 MB 690.9 kB/s eta 0:00:02\n",
      "     -------------------------------- ------- 2.6/3.2 MB 803.3 kB/s eta 0:00:01\n",
      "     -------------------------------- ------- 2.6/3.2 MB 803.3 kB/s eta 0:00:01\n",
      "     ----------------------------------- ---- 2.9/3.2 MB 762.7 kB/s eta 0:00:01\n",
      "     ---------------------------------------  3.1/3.2 MB 809.5 kB/s eta 0:00:01\n",
      "     ---------------------------------------- 3.2/3.2 MB 770.3 kB/s eta 0:00:00\n",
      "Collecting pyspnego>=0.4.0 (from requests-ntlm>=1.1.0->qiskit-ibm-provider)\n",
      "  Downloading https://pypi.tuna.tsinghua.edu.cn/packages/57/ea/b3c1438839d8724beff7b31ec42b9d041265dc9ca27ccb54477d442bfbcf/pyspnego-0.11.2-py3-none-any.whl (130 kB)\n",
      "Collecting cffi>=1.12 (from cryptography>=1.3->requests-ntlm>=1.1.0->qiskit-ibm-provider)\n",
      "  Downloading https://pypi.tuna.tsinghua.edu.cn/packages/d1/b6/0b0f5ab93b0df4acc49cae758c81fe4e5ef26c3ae2e10cc69249dfd8b3ab/cffi-1.17.1-cp310-cp310-win_amd64.whl (181 kB)\n",
      "Collecting sspilib>=0.1.0 (from pyspnego>=0.4.0->requests-ntlm>=1.1.0->qiskit-ibm-provider)\n",
      "  Downloading https://pypi.tuna.tsinghua.edu.cn/packages/07/02/bffb152cbf43b5f6a66c303b4ad6c0acfb5f021b9b1f38e709974ee6dacc/sspilib-0.3.0-cp310-cp310-win_amd64.whl (622 kB)\n",
      "     ---------------------------------------- 0.0/622.4 kB ? eta -:--:--\n",
      "     ---------------- ----------------------- 262.1/622.4 kB ? eta -:--:--\n",
      "     -------------------------------- ----- 524.3/622.4 kB 1.3 MB/s eta 0:00:01\n",
      "     -------------------------------------- 622.4/622.4 kB 1.4 MB/s eta 0:00:00\n",
      "Requirement already satisfied: pbr>=2.0.0 in c:\\users\\silicon\\.conda\\envs\\qiskit-env\\lib\\site-packages (from stevedore>=3.0.0->qiskit>=0.45.0->qiskit-ibm-provider) (6.1.1)\n",
      "Requirement already satisfied: mpmath<1.4,>=1.1.0 in c:\\users\\silicon\\.conda\\envs\\qiskit-env\\lib\\site-packages (from sympy>=1.3->qiskit>=0.45.0->qiskit-ibm-provider) (1.3.0)\n",
      "Collecting pycparser (from cffi>=1.12->cryptography>=1.3->requests-ntlm>=1.1.0->qiskit-ibm-provider)\n",
      "  Using cached https://pypi.tuna.tsinghua.edu.cn/packages/13/a3/a812df4e2dd5696d1f351d58b8fe16a405b234ad2886a0dab9183fb78109/pycparser-2.22-py3-none-any.whl (117 kB)\n",
      "Requirement already satisfied: setuptools in c:\\users\\silicon\\.conda\\envs\\qiskit-env\\lib\\site-packages (from pbr>=2.0.0->stevedore>=3.0.0->qiskit>=0.45.0->qiskit-ibm-provider) (75.8.0)\n",
      "Installing collected packages: websockets, websocket-client, urllib3, sspilib, pycparser, idna, charset-normalizer, certifi, requests, cffi, cryptography, pyspnego, requests-ntlm, qiskit-ibm-provider\n",
      "Successfully installed certifi-2025.4.26 cffi-1.17.1 charset-normalizer-3.4.1 cryptography-44.0.2 idna-3.10 pycparser-2.22 pyspnego-0.11.2 qiskit-ibm-provider-0.11.0 requests-2.32.3 requests-ntlm-1.3.0 sspilib-0.3.0 urllib3-2.4.0 websocket-client-1.8.0 websockets-15.0.1\n",
      "Note: you may need to restart the kernel to use updated packages.\n"
     ]
    }
   ],
   "source": [
    "pip install qiskit-ibm-provider"
   ]
  },
  {
   "cell_type": "code",
   "execution_count": 5,
   "id": "ea3a70b1-5534-43bb-aee6-53de9c2a56e4",
   "metadata": {},
   "outputs": [
    {
     "ename": "ImportError",
     "evalue": "cannot import name 'IBMQ' from 'qiskit' (C:\\Users\\silicon\\.conda\\envs\\qiskit-env\\lib\\site-packages\\qiskit\\__init__.py)",
     "output_type": "error",
     "traceback": [
      "\u001b[1;31m---------------------------------------------------------------------------\u001b[0m",
      "\u001b[1;31mImportError\u001b[0m                               Traceback (most recent call last)",
      "Cell \u001b[1;32mIn[5], line 1\u001b[0m\n\u001b[1;32m----> 1\u001b[0m \u001b[38;5;28;01mfrom\u001b[39;00m\u001b[38;5;250m \u001b[39m\u001b[38;5;21;01mqiskit\u001b[39;00m\u001b[38;5;250m \u001b[39m\u001b[38;5;28;01mimport\u001b[39;00m QuantumCircuit, IBMQ\n\u001b[0;32m      2\u001b[0m \u001b[38;5;28;01mfrom\u001b[39;00m\u001b[38;5;250m \u001b[39m\u001b[38;5;21;01mqiskit\u001b[39;00m\u001b[38;5;21;01m.\u001b[39;00m\u001b[38;5;21;01mexecute_function\u001b[39;00m\u001b[38;5;250m \u001b[39m\u001b[38;5;28;01mimport\u001b[39;00m execute\n\u001b[0;32m      3\u001b[0m \u001b[38;5;28;01mfrom\u001b[39;00m\u001b[38;5;250m \u001b[39m\u001b[38;5;21;01mqiskit\u001b[39;00m\u001b[38;5;21;01m.\u001b[39;00m\u001b[38;5;21;01mtools\u001b[39;00m\u001b[38;5;21;01m.\u001b[39;00m\u001b[38;5;21;01mmonitor\u001b[39;00m\u001b[38;5;250m \u001b[39m\u001b[38;5;28;01mimport\u001b[39;00m job_monitor\n",
      "\u001b[1;31mImportError\u001b[0m: cannot import name 'IBMQ' from 'qiskit' (C:\\Users\\silicon\\.conda\\envs\\qiskit-env\\lib\\site-packages\\qiskit\\__init__.py)"
     ]
    }
   ],
   "source": [
    "from qiskit import QuantumCircuit, IBMQ\n",
    "from qiskit.execute_function import execute\n",
    "from qiskit.tools.monitor import job_monitor"
   ]
  },
  {
   "cell_type": "code",
   "execution_count": null,
   "id": "ca37facb",
   "metadata": {},
   "outputs": [],
   "source": [
    "\n",
    "\n",
    "print('\\nBit Flip Code')\n",
    "print('----------------')\n",
    "\n",
    "IBMQ.enable_account('ENTER API KEY HERE')\n",
    "provider = IBMQ.get_provider(hub='ibm-q')\n",
    "\n",
    "backend = provider.get_backend('ibmq_qasm_simulator')\n",
    "\n",
    "q = QuantumRegister(3,'q')\n",
    "c = ClassicalRegister(1,'c')\n",
    "\n",
    "circuit = QuantumCircuit(q,c)\n",
    "\n",
    "circuit.cx(q[0],q[1])\n",
    "circuit.cx(q[0],q[2])\n",
    "circuit.x(q[0]) #Add this to simulate a bit flip error\n",
    "circuit.cx(q[0],q[1])\n",
    "circuit.cx(q[0],q[2])\n",
    "circuit.ccx(q[2],q[1],q[0])\n",
    "circuit.measure(q[0],c[0])\n",
    "\n",
    "job = execute(circuit, backend, shots=1000)\n",
    "\n",
    "job_monitor(job)\n",
    "\n",
    "counts = job.result().get_counts()\n",
    "\n",
    "print(\"\\nBit flip code with error\")\n",
    "print(\"----------------------\")\n",
    "print(counts)\n",
    "input()\n",
    "\n"
   ]
  }
 ],
 "metadata": {
  "kernelspec": {
   "display_name": "Python (qiskit-env)",
   "language": "python",
   "name": "qiskit-env"
  },
  "language_info": {
   "codemirror_mode": {
    "name": "ipython",
    "version": 3
   },
   "file_extension": ".py",
   "mimetype": "text/x-python",
   "name": "python",
   "nbconvert_exporter": "python",
   "pygments_lexer": "ipython3",
   "version": "3.10.16"
  }
 },
 "nbformat": 4,
 "nbformat_minor": 5
}
