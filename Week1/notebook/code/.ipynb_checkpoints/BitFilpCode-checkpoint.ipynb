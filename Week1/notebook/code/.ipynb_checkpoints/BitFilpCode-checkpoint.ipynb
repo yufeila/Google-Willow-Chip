{
 "cells": [
  {
   "cell_type": "markdown",
   "id": "adbd7cb6",
   "metadata": {
    "vscode": {
     "languageId": "plaintext"
    }
   },
   "source": [
    "## Introduction   介绍\n",
    "Qubits are very fragile and are prone to errors due to decoherence and other quantum noise. However using quantum error correction qubit errors can be corrected. \n",
    "量子比特非常脆弱，由于退相干和其他量子噪声而容易出现错误。但是，使用量子纠错可以纠正量子比特错误。\n",
    "\n",
    "In this tutorial you will see how a specific type of error called a bit flip error can be corrected using a quantum circuit known as the bit flip code. "
   ]
  },
  {
   "cell_type": "markdown",
   "id": "cf285dda",
   "metadata": {
    "vscode": {
     "languageId": "plaintext"
    }
   },
   "source": [
    "## What is a Bit Flip error? \n",
    "什么是 Bit Flip 错误？\n",
    "A bit flip error is specific type of error where the qubits computational state flips from 1 to 0 or vice versa.\n",
    "位翻转错误是特定类型的错误，其中量子比特计算状态从 1 翻转到 0，反之亦然。\n",
    "\n",
    "However a bit flip can be corrected using the bit flip code. This is a 3 qubit circuit that makes use of 2 ancillary qubits to correct 1 qubit. \n",
    "但是，可以使用 bit flip 代码来纠正 bit flip。这是一个 3 量子比特电路，它使用 2 个辅助量子比特来校正 1 个量子比特。\n",
    "\n",
    "Circuit diagram of the bit flip code\n",
    "![alt text](image-1.png)\n",
    "比特翻转代码的电路图\n",
    "\n",
    "The code works by first using CNOT gates to transfer the computational state of the main qubit to the other ancillary qubits. Then if an error occurs the first qubits state will be flipped. To correct the bit flip CNOT gates are applied to the ancillary qubits again and then a toffoli gate is applied to the first qubit which will correct its state. \n",
    "该代码的工作原理是首先使用 CNOT 门将主量子比特的计算状态传输到其他辅助量子比特。然后，如果发生错误，第一个量子比特状态将被翻转。为了更正位翻转，将 CNOT 门再次应用于辅助量子比特，然后将 toffoli 门应用于第一个量子比特，这将更正其状态。\n",
    "\n",
    "For example let’s say the main qubits state was 0. CNOT gates will be applied to the ancillary qubits which will leave them unchanged since the main qubits state was 0. \n",
    "例如，假设主量子比特状态为 0。CNOT 门将应用于辅助量子比特，这将使它们保持不变，因为主量子比特状态为 0。\n",
    "\n",
    "Next a bit flip occurs which flips the main qubits state to 1. After the bit flip CNOT gates are applied to the ancillary qubits which will flip their states to 1 since the main qubits state is 1. \n",
    "接下来，将发生位翻转，将主量子比特状态翻转为 1。位翻转后，CNOT 门将应用于辅助量子比特，这会将其状态翻转为 1，因为主量子比特状态为 1。\n",
    "\n",
    "Then a toffoli gate is applied to the main qubit which will flip the state of the qubit since the ancillary qubits states are 1. This flips the state of the main qubit to 0 thus correcting the error. \n",
    "然后，将 toffoli 门应用于主量子比特，这将翻转量子比特的状态，因为辅助量子比特的状态为 1。这会将主量子比特的状态翻转为 0，从而纠正错误。"
   ]
  },
  {
   "cell_type": "markdown",
   "id": "13fcca05",
   "metadata": {},
   "source": [
    "## Implementation   实现\n",
    "\n",
    "Circuit diagram of bit flip code with simulated error using a NOT gate\n",
    "使用 NOT 门的具有模拟错误的 bit flip code 电路图"
   ]
  },
  {
   "cell_type": "markdown",
   "id": "3c1b8f09",
   "metadata": {},
   "source": [
    "### Step 1: Initialise the quantum and classical registers\n",
    "\n",
    "步骤 1：初始化量子寄存器和经典寄存器\n",
    "\n",
    "The first step is to initialise a 3 qubit register . This is done by the following code:\n",
    "\n",
    "第一步是初始化 3 量子比特寄存器 。这是通过以下代码完成的：\n"
   ]
  },
  {
   "cell_type": "code",
   "execution_count": null,
   "id": "09403154",
   "metadata": {},
   "outputs": [],
   "source": [
    "q = QuantumRegister(3,'q')"
   ]
  },
  {
   "cell_type": "markdown",
   "id": "1ebf9a0e",
   "metadata": {},
   "source": [
    "### Step 2: Create the circuit\n",
    "\n",
    "第 2 步：创建电路\n",
    "\n",
    "Next we create quantum circuit using the following code:\n",
    "\n",
    "接下来，我们使用以下代码创建量子电路："
   ]
  },
  {
   "cell_type": "code",
   "execution_count": null,
   "id": "0f62c59c",
   "metadata": {},
   "outputs": [],
   "source": [
    "\n",
    "circuit = QuantumCircuit(q,c)"
   ]
  },
  {
   "cell_type": "markdown",
   "id": "f816a7b8",
   "metadata": {},
   "source": [
    "### Step 3: Apply a CNOT gate to ancillary qubits \n",
    "\n",
    "步骤 3：将 CNOT 门应用于辅助量子比特\n",
    "\n",
    "Next we will need to transfer the state of the first qubit to the ancillary qubits. This is done using CNOT gates where the ancillary qubits are the targets and the first qubit is the control qubit. \n",
    "\n",
    "接下来，我们需要将第一个量子比特的状态传输到辅助量子比特。这是使用 CNOT 门完成的，其中辅助量子比特是目标，第一个量子比特是控制量子比特。\n",
    "\n",
    "This is done using the following code:\n",
    "\n",
    "这是使用以下代码完成的："
   ]
  },
  {
   "cell_type": "code",
   "execution_count": null,
   "id": "3e8b7499",
   "metadata": {},
   "outputs": [],
   "source": [
    "circuit.cx(q[0],q[1]) \n",
    "circuit.cx(q[0],q[2])"
   ]
  },
  {
   "cell_type": "markdown",
   "id": "490ef05c",
   "metadata": {},
   "source": [
    "### Step 4: Simulate a bit flip\n",
    "\n",
    "第 4 步：模拟位翻转\n",
    "\n",
    "To show that the circuit corrects bit flips lets simulate a bit flip error. This can be done by applying a NOT gate to the first qubit: \n",
    "\n",
    "为了显示电路纠正了位翻转，让我们模拟一个位翻转错误。这可以通过将 NOT 门应用于第一个量子比特来完成：\n"
   ]
  },
  {
   "cell_type": "code",
   "execution_count": null,
   "id": "2eae89bb",
   "metadata": {},
   "outputs": [],
   "source": [
    "circuit.x(q[0]) #Add this to simulate a bit flip error "
   ]
  },
  {
   "cell_type": "markdown",
   "id": "3fb37190",
   "metadata": {},
   "source": [
    "### Step 5: Again apply CNOT gates to ancillary qubits\n",
    "\n",
    "步骤 5：再次将 CNOT 门应用于辅助量子比特\n",
    "\n",
    "This is done using the following code:\n",
    "\n",
    "这是使用以下代码完成的：\n"
   ]
  },
  {
   "cell_type": "code",
   "execution_count": null,
   "id": "eb7fc9ed",
   "metadata": {},
   "outputs": [],
   "source": [
    "circuit.cx(q[0],q[1]) \n",
    "circuit.cx(q[0],q[2])"
   ]
  },
  {
   "cell_type": "markdown",
   "id": "e9dcb418",
   "metadata": {},
   "source": [
    "### Step 6: Apply a Toffoli gate to the main qubit\n",
    "\n",
    "步骤 6：将 Toffoli 门应用于主量子比特\n",
    "\n",
    "This is done using the following code:\n",
    "\n",
    "这是使用以下代码完成的：\n"
   ]
  },
  {
   "cell_type": "code",
   "execution_count": null,
   "metadata": {},
   "outputs": [],
   "source": [
    "circuit.ccx(q[2],q[1],q[0])"
   ]
  },
  {
   "cell_type": "markdown",
   "id": "388c5d5b",
   "metadata": {
    "vscode": {
     "languageId": "plaintext"
    }
   },
   "source": [
    "Step 7: Measure the qubits\n",
    "\n",
    "步骤 7：测量量子比特\n",
    "\n",
    "After this we measure the qubits. \n",
    "\n",
    "在此之后，我们测量量子比特。\n",
    "\n",
    "This is done with the following code: \n",
    "\n",
    "这是通过以下代码完成的：\n"
   ]
  },
  {
   "cell_type": "code",
   "execution_count": null,
   "id": "a5c6b0db",
   "metadata": {},
   "outputs": [],
   "source": [
    "circuit.measure(q,c) "
   ]
  },
  {
   "cell_type": "markdown",
   "id": "16c4a021",
   "metadata": {},
   "source": [
    "### How to run the program \n",
    "\n",
    "1. Copy and paste the code below in to a python file \n",
    "\n",
    "2. Enter your API token in the IBMQ.enable_account('Insert API token here') part \n",
    "\n",
    "3. Save and run   "
   ]
  },
  {
   "cell_type": "code",
   "execution_count": null,
   "id": "ca37facb",
   "metadata": {},
   "outputs": [],
   "source": [
    "from qiskit import QuantumRegister\n",
    "from qiskit import QuantumRegister, ClassicalRegister\n",
    "from qiskit import QuantumCircuit, execute,IBMQ\n",
    "from qiskit.tools.monitor import job_monitor\n",
    "\n",
    "print('\\nBit Flip Code')\n",
    "print('----------------')\n",
    "\n",
    "IBMQ.enable_account('ENTER API KEY HERE')\n",
    "provider = IBMQ.get_provider(hub='ibm-q')\n",
    "\n",
    "backend = provider.get_backend('ibmq_qasm_simulator')\n",
    "\n",
    "q = QuantumRegister(3,'q')\n",
    "c = ClassicalRegister(1,'c')\n",
    "\n",
    "circuit = QuantumCircuit(q,c)\n",
    "\n",
    "circuit.cx(q[0],q[1])\n",
    "circuit.cx(q[0],q[2])\n",
    "circuit.x(q[0]) #Add this to simulate a bit flip error\n",
    "circuit.cx(q[0],q[1])\n",
    "circuit.cx(q[0],q[2])\n",
    "circuit.ccx(q[2],q[1],q[0])\n",
    "circuit.measure(q[0],c[0])\n",
    "\n",
    "job = execute(circuit, backend, shots=1000)\n",
    "\n",
    "job_monitor(job)\n",
    "\n",
    "counts = job.result().get_counts()\n",
    "\n",
    "print(\"\\nBit flip code with error\")\n",
    "print(\"----------------------\")\n",
    "print(counts)\n",
    "input()\n",
    "\n"
   ]
  }
 ],
 "metadata": {
  "kernelspec": {
   "display_name": "Python (d2l)",
   "language": "python",
   "name": "d2l"
  },
  "language_info": {
   "name": "python",
   "version": "3.9.21"
  }
 },
 "nbformat": 4,
 "nbformat_minor": 5
}
